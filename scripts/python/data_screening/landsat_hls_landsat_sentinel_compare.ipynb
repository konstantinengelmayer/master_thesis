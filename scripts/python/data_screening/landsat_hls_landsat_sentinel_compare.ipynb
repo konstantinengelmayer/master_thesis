{
 "cells": [
  {
   "cell_type": "code",
   "execution_count": 17,
   "metadata": {},
   "outputs": [],
   "source": [
    "import ee\n",
    "import geopandas as gpd\n",
    "import json\n",
    "import pandas as pd\n",
    "import matplotlib.pyplot as plt\n",
    "import numpy as np\n",
    "\n",
    "# Initialize the Earth Engine API.\n",
    "ee.Authenticate()\n",
    "ee.Initialize()\n",
    "\n",
    "# -----------------------------\n",
    "# 1. Load your AOI from a shapefile\n",
    "# -----------------------------\n",
    "shp_path = r\"C:\\Users\\konst\\Documents\\Hiwi\\mw3\\drought_indicies\\data\\Untersuchungsgebiete\\002a_Sen1-Subset_Eifel.shp\"\n",
    "gdf = gpd.read_file(shp_path)\n",
    "geojson = gdf.to_json()\n",
    "aoi = ee.Geometry(json.loads(geojson)['features'][0]['geometry'])\n",
    "\n",
    "# -----------------------------\n",
    "# 2. Define date range and cloud mask function\n",
    "# -----------------------------\n",
    "start_date = '2000-01-01'\n",
    "end_date   = '2025-01-31'\n",
    "\n",
    "# -----------------------------\n",
    "# 3. Load and filter the two HLS collections (Sentinel and Landsat)\n",
    "# -----------------------------\n",
    "landsat7 = (ee.ImageCollection(\"LANDSAT/LE07/C02/T1_L2\")\n",
    "          .filterBounds(aoi)\n",
    "          .filterDate(start_date, end_date)\n",
    "         )\n",
    "\n",
    "\n",
    "# Rename bands for consistency\n",
    "landsat7_renamed = landsat7.map(lambda img: img.select(\n",
    "    ['SR_B1', 'SR_B2', 'SR_B3', 'SR_B4', 'SR_B5', 'SR_B7', 'QA_PIXEL'],\n",
    "    ['Blue', 'Green', 'Red', 'NIR', 'SWIR1', 'SWIR2', 'QA_PIXEL']\n",
    "))\n",
    "\n",
    "# Define the cloud mask function\n",
    "def mask_clouds(image):\n",
    "    # Bits 0 (Fill), 1 (Dilated Cloud), 3 (Cloud), 4 (Cloud Shadow)\n",
    "    cloud_shadow_bitmask = (1 << 0) | (1 << 1) | (1 << 3) | (1 << 4)\n",
    "    qa = image.select('QA_PIXEL')\n",
    "    mask = qa.bitwiseAnd(cloud_shadow_bitmask).eq(0)\n",
    "    return image.updateMask(mask)\n",
    "\n",
    "# Apply the cloud mask to the Landsat 7 collection\n",
    "landsat7_masked = landsat7_renamed.map(mask_clouds)"
   ]
  }
 ],
 "metadata": {
  "kernelspec": {
   "display_name": "CIS_WS24_25",
   "language": "python",
   "name": "python3"
  },
  "language_info": {
   "codemirror_mode": {
    "name": "ipython",
    "version": 3
   },
   "file_extension": ".py",
   "mimetype": "text/x-python",
   "name": "python",
   "nbconvert_exporter": "python",
   "pygments_lexer": "ipython3",
   "version": "3.13.0"
  }
 },
 "nbformat": 4,
 "nbformat_minor": 2
}
